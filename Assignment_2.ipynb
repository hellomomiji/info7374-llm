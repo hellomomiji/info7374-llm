{
  "nbformat": 4,
  "nbformat_minor": 0,
  "metadata": {
    "colab": {
      "provenance": [],
      "gpuType": "T4",
      "include_colab_link": true
    },
    "kernelspec": {
      "name": "python3",
      "display_name": "Python 3"
    },
    "language_info": {
      "name": "python"
    },
    "accelerator": "GPU"
  },
  "cells": [
    {
      "cell_type": "markdown",
      "metadata": {
        "id": "view-in-github",
        "colab_type": "text"
      },
      "source": [
        "<a href=\"https://colab.research.google.com/github/hellomomiji/info7374-llm/blob/main/Assignment_2.ipynb\" target=\"_parent\"><img src=\"https://colab.research.google.com/assets/colab-badge.svg\" alt=\"Open In Colab\"/></a>"
      ]
    },
    {
      "cell_type": "markdown",
      "source": [
        "# Assignment 2: Bigram Language Model and Generative Pretrained Transformer (GPT)\n",
        "\n",
        "\n",
        "The objective of this assignment is to train a simplified transformer model. The primary differences between the implementation:\n",
        "* tokenizer (we use a character level encoder simplicity and compute constraints)\n",
        "* size (we are using 1 consumer grade gpu hosted on colab and a small dataset. in practice, the models are much larger and are trained on much more data)\n",
        "* efficiency\n",
        "\n",
        "\n",
        "Most modern LLMs have multiple training stages, so we won't get a model that is capable of replying to you yet. However, this is the first step towards a model like ChatGPT and Llama.\n",
        "\n",
        "\n"
      ],
      "metadata": {
        "id": "fYCVVv_1A1kZ"
      }
    },
    {
      "cell_type": "code",
      "execution_count": null,
      "metadata": {
        "id": "F097yaiu7dXQ"
      },
      "outputs": [],
      "source": [
        "%matplotlib inline\n",
        "import torch\n",
        "import numpy as np\n",
        "import matplotlib.pyplot as plt\n",
        "from dataclasses import dataclass\n",
        "from torch import nn"
      ]
    },
    {
      "cell_type": "markdown",
      "source": [
        "## Part 1: Bigram MLP for TinyShakespeare (35 points)\n",
        "\n",
        "1a) (1 point). Create a list `chars` that contains all unique characters in `text`\n",
        "\n",
        "1b) (2 points). Implement `encode(s: str) -> list[int]`\n",
        "\n",
        "1c) (2 points). Implement `decode(ids: list[int]) -> str`\n",
        "\n",
        "1d) (5 points). Create two tensors, `inputs_one_hot` and `outputs_one_hot`. Use one hot encoding. Make sure to get every consecutive pair of characters. For example, for the word 'hello', we should create the following input-output pairs\n",
        "```\n",
        "he\n",
        "el\n",
        "ll\n",
        "lo\n",
        "```\n",
        "\n",
        "1e) (10 points). Implement BigramOneHotMLP, a 2 layer MLP that predicts the next token. Specifically, implement the constructor, forward, and generate. The output dimension of the first layer should be 8. Use `torch.optim`. The activation function for the first layer should be `nn.LeakyReLU()`\n",
        "\n",
        "Note: Use the `torch.nn.function.cross_entropy` loss. Read the [docs](https://pytorch.org/docs/stable/generated/torch.nn.functional.cross_entropy.html) about how this loss function works. The logits are the output of a network WITHOUT an activation function applied to the last layer. There are activation functions are applied to every layer except the last.\n",
        "\n",
        "1f) (5 points). Train the BigramOneHotMLP for 1000 steps.\n",
        "\n",
        "1g) (5 points). Create two tensors, `input_ids` and `outputs_one_hot`. These `input_ids` will be used for the embedding layer.\n",
        "\n",
        "1h) (5 points). Implement and train BigramEmbeddingMLP, a 2 layer mlp that predicts the next token. Specifically, implement the constructor, forward, and generate functions. The output dimension of the first layer should be 8. Use `torch.optim`.\n",
        "\n",
        "\n",
        "\n",
        "Note: the output will look like gibberish\n"
      ],
      "metadata": {
        "id": "8qra06Ema_VL"
      }
    },
    {
      "cell_type": "code",
      "source": [
        "!wget https://raw.githubusercontent.com/karpathy/char-rnn/master/data/tinyshakespeare/input.txt"
      ],
      "metadata": {
        "colab": {
          "base_uri": "https://localhost:8080/"
        },
        "id": "5iradmn7bZtM",
        "outputId": "60cd9f34-9ab3-42fd-b414-d5e07b47ef55"
      },
      "execution_count": null,
      "outputs": [
        {
          "output_type": "stream",
          "name": "stdout",
          "text": [
            "--2024-10-13 21:31:50--  https://raw.githubusercontent.com/karpathy/char-rnn/master/data/tinyshakespeare/input.txt\n",
            "Resolving raw.githubusercontent.com (raw.githubusercontent.com)... 185.199.111.133, 185.199.110.133, 185.199.109.133, ...\n",
            "Connecting to raw.githubusercontent.com (raw.githubusercontent.com)|185.199.111.133|:443... connected.\n",
            "HTTP request sent, awaiting response... 200 OK\n",
            "Length: 1115394 (1.1M) [text/plain]\n",
            "Saving to: ‘input.txt’\n",
            "\n",
            "\rinput.txt             0%[                    ]       0  --.-KB/s               \rinput.txt           100%[===================>]   1.06M  --.-KB/s    in 0.05s   \n",
            "\n",
            "2024-10-13 21:31:50 (22.8 MB/s) - ‘input.txt’ saved [1115394/1115394]\n",
            "\n"
          ]
        }
      ]
    },
    {
      "cell_type": "code",
      "source": [
        "# For the bigram model, let's use the first 1000 characters for the data\n",
        "\n",
        "with open('input.txt', 'r') as f:\n",
        "    text = f.read()\n",
        "text = text[:1000]"
      ],
      "metadata": {
        "id": "pLoVi294G-T-"
      },
      "execution_count": null,
      "outputs": []
    },
    {
      "cell_type": "code",
      "source": [
        "chars = sorted(list(set(\"\".join(text)))) # implement 1a\n",
        "\n",
        "ctoi = { ch:i for i,ch in enumerate(chars) }\n",
        "itoc = { i:ch for ch,i in  ctoi.items() }\n",
        "\n",
        "def encode(s: str) -> list[int]:\n",
        "    # implement 1b\n",
        "    return [ctoi[c] for c in s]\n",
        "\n",
        "def decode(ids: list[int]) -> str:\n",
        "    # implement 1c\n",
        "    return \"\".join([itoc[i] for i in ids])\n",
        "\n",
        "def create_one_hot_inputs_and_outputs() -> list[torch.tensor, torch.tensor]:\n",
        "    # implement 1d\n",
        "    inputs, outputs = [], []\n",
        "    for c1, c2 in zip(text, text[1:]):\n",
        "      inputs.append(nn.functional.one_hot(torch.tensor(encode(c1)), len(chars)))\n",
        "      outputs.append(nn.functional.one_hot(torch.tensor(encode(c2)), len(chars)))\n",
        "    return torch.stack(inputs), torch.stack(outputs)\n",
        "\n",
        "\n",
        "inputs_one_hot, outputs_one_hot = create_one_hot_inputs_and_outputs()\n",
        "\n",
        "class BigramOneHotMLP(nn.Module):\n",
        "    def __init__(self):\n",
        "        # implement 1e\n",
        "        super().__init__()\n",
        "        self.fc1 = nn.Linear(len(chars), 8)\n",
        "        self.fc2 = nn.Linear(8, len(chars))\n",
        "        self.activation = nn.LeakyReLU()\n",
        "\n",
        "    def forward(self, x):\n",
        "        # implement 1e\n",
        "        x = self.fc1(x)\n",
        "        x = self.activation(x)\n",
        "        x = self.fc2(x)\n",
        "        return x\n",
        "\n",
        "    def generate(self, start='a', max_new_tokens=100) -> str:\n",
        "        # implement 1e\n",
        "        self.eval()\n",
        "        with torch.no_grad():\n",
        "          current_char = start\n",
        "          word = current_char\n",
        "          for _ in range(max_new_tokens):\n",
        "            input_tensor = nn.functional.one_hot(torch.tensor(encode(current_char)), len(chars)).unsqueeze(0).float()\n",
        "            output = self(input_tensor)\n",
        "            next_char_id = torch.argmax(output).item()\n",
        "            next_char = [key for key, value in ctoi.items() if value == next_char_id][0]\n",
        "            current_char = next_char\n",
        "            word += current_char\n",
        "        return word\n",
        "\n",
        "\n",
        "bigram_one_hot_mlp = BigramOneHotMLP()\n",
        "\n",
        "optimizer = torch.optim.SGD(bigram_one_hot_mlp.parameters(), lr=0.01)\n",
        "\n",
        "# training loop\n",
        "for i in range(1000):\n",
        "    # implement 1f\n",
        "    optimizer.zero_grad()\n",
        "    prediction = bigram_one_hot_mlp(inputs_one_hot.float())\n",
        "    loss = nn.functional.cross_entropy(prediction, outputs_one_hot.float())\n",
        "    loss.backward()\n",
        "    optimizer.step()\n",
        "\n",
        "print(bigram_one_hot_mlp.generate())"
      ],
      "metadata": {
        "id": "hoMGZgEOdRjt",
        "colab": {
          "base_uri": "https://localhost:8080/"
        },
        "outputId": "4a65213f-3735-4a26-b82f-d1336895d29a"
      },
      "execution_count": null,
      "outputs": [
        {
          "output_type": "stream",
          "name": "stdout",
          "text": [
            "au!Cu!Cu!Cu!Cu!Cu!Cu!Cu!Cu!Cu!Cu!Cu!Cu!Cu!Cu!Cu!Cu!Cu!Cu!Cu!Cu!Cu!Cu!Cu!Cu!Cu!Cu!Cu!Cu!Cu!Cu!Cu!Cu!Cu\n"
          ]
        }
      ]
    },
    {
      "cell_type": "code",
      "source": [
        "def create_embedding_inputs_and_outputs() -> list[torch.tensor, torch.tensor]:\n",
        "    # implement 1g\n",
        "    input_ids = []\n",
        "    for c1, c2 in zip(text, text[1:]):\n",
        "      input_ids.append(torch.tensor(encode(c1)))\n",
        "    return torch.stack(input_ids), outputs_one_hot\n",
        "\n",
        "input_ids, outputs_one_hot = create_embedding_inputs_and_outputs()\n",
        "\n",
        "class BigramEmbeddingMLP(nn.Module):\n",
        "    def __init__(self):\n",
        "        # implement 1h\n",
        "        super().__init__()\n",
        "        self.embedding = nn.Embedding(len(chars), 8)\n",
        "        self.fc1 = nn.Linear(8, 8)\n",
        "        self.fc2 = nn.Linear(8, len(chars))\n",
        "        self.activation = nn.LeakyReLU()\n",
        "\n",
        "    def forward(self, x):\n",
        "        # implement 1h\n",
        "        x = self.embedding(x)\n",
        "        x = self.fc1(x)\n",
        "        x = self.activation(x)\n",
        "        x = self.fc2(x)\n",
        "        return x\n",
        "\n",
        "    def generate(self, start='a', max_new_tokens=100) -> str:\n",
        "        # implement 1h\n",
        "        self.eval()\n",
        "        with torch.no_grad():\n",
        "          current_char = start\n",
        "          word = current_char\n",
        "          for _ in range(max_new_tokens):\n",
        "            input_tensor = torch.tensor(encode(current_char))\n",
        "            output = self(input_tensor)\n",
        "            next_char_id = torch.argmax(output).item()\n",
        "            next_char = [key for key, value in ctoi.items() if value == next_char_id][0]\n",
        "            current_char = next_char\n",
        "            word += current_char\n",
        "          return word\n",
        "\n",
        "bigram_embedding_mlp = BigramEmbeddingMLP()\n",
        "\n",
        "optimizer = torch.optim.SGD(bigram_embedding_mlp.parameters(), lr=0.01)\n",
        "# training loop\n",
        "for _ in range(1000):\n",
        "    # implement 1h\n",
        "    optimizer.zero_grad()\n",
        "    prediction = bigram_embedding_mlp(input_ids)\n",
        "    loss = nn.functional.cross_entropy(prediction, outputs_one_hot.float())\n",
        "    loss.backward()\n",
        "    optimizer.step()\n",
        "\n",
        "\n",
        "print(bigram_embedding_mlp.generate())"
      ],
      "metadata": {
        "id": "PasrfDz-dSqx",
        "colab": {
          "base_uri": "https://localhost:8080/"
        },
        "outputId": "56a30997-c0b4-4466-de76-d3947542fcad"
      },
      "execution_count": null,
      "outputs": [
        {
          "output_type": "stream",
          "name": "stdout",
          "text": [
            "affffffffffffffffffffffffffffffffffffffffffffffffffffffffffffffffffffffffffffffffffffffffffffffffffff\n"
          ]
        }
      ]
    },
    {
      "cell_type": "markdown",
      "source": [
        "## Part 2: Generative Pretrained Transformer (65 points)\n",
        "\n",
        "For this part, it is best to use a gpu. In the settings at the top go to Runtime -> Change Runtime Type and select T4 GPU"
      ],
      "metadata": {
        "id": "qplpM8_Cbp0s"
      }
    },
    {
      "cell_type": "code",
      "source": [
        "# run nvidia-smi to check gpu usage\n",
        "!nvidia-smi"
      ],
      "metadata": {
        "id": "0Oh-3FeFxxnI",
        "colab": {
          "base_uri": "https://localhost:8080/"
        },
        "outputId": "f5d4ee8f-975a-4462-cacf-fc437f0adab6"
      },
      "execution_count": null,
      "outputs": [
        {
          "output_type": "stream",
          "name": "stdout",
          "text": [
            "Sun Oct 13 21:31:55 2024       \n",
            "+---------------------------------------------------------------------------------------+\n",
            "| NVIDIA-SMI 535.104.05             Driver Version: 535.104.05   CUDA Version: 12.2     |\n",
            "|-----------------------------------------+----------------------+----------------------+\n",
            "| GPU  Name                 Persistence-M | Bus-Id        Disp.A | Volatile Uncorr. ECC |\n",
            "| Fan  Temp   Perf          Pwr:Usage/Cap |         Memory-Usage | GPU-Util  Compute M. |\n",
            "|                                         |                      |               MIG M. |\n",
            "|=========================================+======================+======================|\n",
            "|   0  Tesla T4                       Off | 00000000:00:04.0 Off |                    0 |\n",
            "| N/A   38C    P8               9W /  70W |      3MiB / 15360MiB |      0%      Default |\n",
            "|                                         |                      |                  N/A |\n",
            "+-----------------------------------------+----------------------+----------------------+\n",
            "                                                                                         \n",
            "+---------------------------------------------------------------------------------------+\n",
            "| Processes:                                                                            |\n",
            "|  GPU   GI   CI        PID   Type   Process name                            GPU Memory |\n",
            "|        ID   ID                                                             Usage      |\n",
            "|=======================================================================================|\n",
            "|  No running processes found                                                           |\n",
            "+---------------------------------------------------------------------------------------+\n"
          ]
        }
      ]
    },
    {
      "cell_type": "code",
      "source": [
        "# For the gpt model, let's use the full text\n",
        "\n",
        "with open('input.txt', 'r') as f:\n",
        "    text = f.read()"
      ],
      "metadata": {
        "id": "rhJAwCAOADP7"
      },
      "execution_count": null,
      "outputs": []
    },
    {
      "cell_type": "markdown",
      "source": [
        "Implement a character level tokenization function.\n",
        "\n",
        "1. Create a list of unique characters in the string. (1 points)\n",
        "2. Implement a function `encode(s: str) -> list[int]` that takes a string and returns a list of ids (1 point)\n",
        "3. Implement a function `decode(ids: list[int]) -> str` that takes a list of ids (ints) and returns a string (1 point)\n"
      ],
      "metadata": {
        "id": "z_LZpvZ8AEEi"
      }
    },
    {
      "cell_type": "code",
      "source": [
        "chars = sorted(list(set(\"\".join(text))))\n",
        "ctoi = { ch:i for i,ch in enumerate(chars) }\n",
        "itoc = { i:ch for ch,i in  ctoi.items() }\n",
        "\n",
        "def encode(s: str) -> list[int]:\n",
        "    return [ctoi[c] for c in s]\n",
        "\n",
        "def decode(ids: list[int]) -> str:\n",
        "    return \"\".join([itoc[i] for i in ids])"
      ],
      "metadata": {
        "id": "rnEOfMj4Dk4Y"
      },
      "execution_count": null,
      "outputs": []
    },
    {
      "cell_type": "code",
      "source": [
        "data = torch.tensor(encode(text), dtype=torch.long).cuda()"
      ],
      "metadata": {
        "id": "1gyOaRF5Dq1P"
      },
      "execution_count": null,
      "outputs": []
    },
    {
      "cell_type": "code",
      "source": [
        "block_size = 16\n",
        "data[:block_size+1]"
      ],
      "metadata": {
        "id": "qvWGi8Mk6x1q",
        "colab": {
          "base_uri": "https://localhost:8080/"
        },
        "outputId": "52289e1a-dbe1-4114-8466-9171ff411f98"
      },
      "execution_count": null,
      "outputs": [
        {
          "output_type": "execute_result",
          "data": {
            "text/plain": [
              "tensor([18, 47, 56, 57, 58,  1, 15, 47, 58, 47, 64, 43, 52, 10,  0, 14, 43],\n",
              "       device='cuda:0')"
            ]
          },
          "metadata": {},
          "execution_count": 10
        }
      ]
    },
    {
      "cell_type": "markdown",
      "source": [
        "To train a transformer, we feed the model `n` tokens (context) and try to predict the `n+1`th token (target) in the sequence.\n",
        "\n"
      ],
      "metadata": {
        "id": "GvO4hSK171Vu"
      }
    },
    {
      "cell_type": "code",
      "source": [
        "x = data[:block_size]\n",
        "y = data[1:block_size+1]\n",
        "for t in range(block_size):\n",
        "    context = x[:t+1]\n",
        "    target = y[t]\n",
        "    print(f\"when input is {context} the target: {target}\")"
      ],
      "metadata": {
        "id": "DVWxO6Pa70Lh",
        "colab": {
          "base_uri": "https://localhost:8080/"
        },
        "outputId": "7fc3a4ad-44bd-42f5-8857-b319b6f0b5a9"
      },
      "execution_count": null,
      "outputs": [
        {
          "output_type": "stream",
          "name": "stdout",
          "text": [
            "when input is tensor([18], device='cuda:0') the target: 47\n",
            "when input is tensor([18, 47], device='cuda:0') the target: 56\n",
            "when input is tensor([18, 47, 56], device='cuda:0') the target: 57\n",
            "when input is tensor([18, 47, 56, 57], device='cuda:0') the target: 58\n",
            "when input is tensor([18, 47, 56, 57, 58], device='cuda:0') the target: 1\n",
            "when input is tensor([18, 47, 56, 57, 58,  1], device='cuda:0') the target: 15\n",
            "when input is tensor([18, 47, 56, 57, 58,  1, 15], device='cuda:0') the target: 47\n",
            "when input is tensor([18, 47, 56, 57, 58,  1, 15, 47], device='cuda:0') the target: 58\n",
            "when input is tensor([18, 47, 56, 57, 58,  1, 15, 47, 58], device='cuda:0') the target: 47\n",
            "when input is tensor([18, 47, 56, 57, 58,  1, 15, 47, 58, 47], device='cuda:0') the target: 64\n",
            "when input is tensor([18, 47, 56, 57, 58,  1, 15, 47, 58, 47, 64], device='cuda:0') the target: 43\n",
            "when input is tensor([18, 47, 56, 57, 58,  1, 15, 47, 58, 47, 64, 43], device='cuda:0') the target: 52\n",
            "when input is tensor([18, 47, 56, 57, 58,  1, 15, 47, 58, 47, 64, 43, 52], device='cuda:0') the target: 10\n",
            "when input is tensor([18, 47, 56, 57, 58,  1, 15, 47, 58, 47, 64, 43, 52, 10],\n",
            "       device='cuda:0') the target: 0\n",
            "when input is tensor([18, 47, 56, 57, 58,  1, 15, 47, 58, 47, 64, 43, 52, 10,  0],\n",
            "       device='cuda:0') the target: 14\n",
            "when input is tensor([18, 47, 56, 57, 58,  1, 15, 47, 58, 47, 64, 43, 52, 10,  0, 14],\n",
            "       device='cuda:0') the target: 43\n"
          ]
        }
      ]
    },
    {
      "cell_type": "code",
      "source": [
        "batch_size = 64\n",
        "device = 'cuda' if torch.cuda.is_available() else 'cpu'\n",
        "def get_batch():\n",
        "    ix = torch.randint(len(data) - block_size, (batch_size,))\n",
        "    x = torch.stack([data[i:i+block_size] for i in ix])\n",
        "    y = torch.stack([data[i+1:i+block_size+1] for i in ix])\n",
        "    x, y = x.to(device), y.to(device)\n",
        "    return x, y\n"
      ],
      "metadata": {
        "id": "lFYZnm2MuLlt"
      },
      "execution_count": null,
      "outputs": []
    },
    {
      "cell_type": "markdown",
      "source": [
        "### Single Self Attention Head (5 points)\n",
        "![](https://i.ibb.co/GWR1XG0/head.png)"
      ],
      "metadata": {
        "id": "-HmnXJjxtm3N"
      }
    },
    {
      "cell_type": "code",
      "source": [
        "class SelfAttentionHead(nn.Module):\n",
        "    def __init__(self, head_size):\n",
        "      super().__init__()\n",
        "      self.q_proj = nn.Linear(64, head_size, bias=False)\n",
        "      self.k_proj = nn.Linear(64, head_size, bias=False)\n",
        "      self.v_proj = nn.Linear(64, head_size, bias=False)\n",
        "      self.dropout = nn.Dropout(0.5)\n",
        "\n",
        "    def forward(self, x):\n",
        "      B,T,C = x.shape\n",
        "      q = self.q_proj(x)\n",
        "      k = self.k_proj(x)\n",
        "\n",
        "      attention = q @ k.transpose(-2, -1) * (C ** -0.5)\n",
        "      mask = torch.tril(torch.ones(T, T)).to(device)\n",
        "      attention = attention.masked_fill(mask == 0, float('-inf'))\n",
        "\n",
        "      attention = nn.functional.softmax(attention, dim=-1)\n",
        "      attention = self.dropout(attention)\n",
        "      v = self.v_proj(x)\n",
        "      out = attention @ v\n",
        "      return out\n",
        "\n",
        "attention = SelfAttentionHead(16).to(device)\n",
        "x = torch.randn(8, 32, 64).to(device)\n",
        "out = attention(x)\n",
        "out.shape\n"
      ],
      "metadata": {
        "id": "5SD8Z16R-sfZ",
        "colab": {
          "base_uri": "https://localhost:8080/"
        },
        "outputId": "ce171146-388b-4ee1-ee80-a51efb7fa235"
      },
      "execution_count": null,
      "outputs": [
        {
          "output_type": "execute_result",
          "data": {
            "text/plain": [
              "torch.Size([8, 32, 16])"
            ]
          },
          "metadata": {},
          "execution_count": 13
        }
      ]
    },
    {
      "cell_type": "markdown",
      "source": [
        "### Multihead Self Attention (5 points)\n",
        "\n",
        "`constructor`\n",
        "\n",
        "- Create 4 `SelfAttentionHead` instances. Consider using `nn.ModuleList`\n",
        "- Create a linear layer with n_embd input dim and n_embd output dim\n",
        "\n",
        "`forward`\n",
        "\n",
        "In the forward implementation, pass `x` through each head, then concatenate all the outputs along the feature dimension, then pass the concatenated output through the linear layer\n",
        "\n",
        "![](https://i.ibb.co/y5SwyZZ/multihead.png)"
      ],
      "metadata": {
        "id": "LWeoHGBiFpWd"
      }
    },
    {
      "cell_type": "code",
      "source": [
        "class MultiHeadAttention(nn.Module):\n",
        "    def __init__(self, num_heads, head_size):\n",
        "      super().__init__()\n",
        "      self.heads = nn.ModuleList([SelfAttentionHead(head_size) for _ in range(num_heads)])\n",
        "      self.proj = nn.Linear(num_heads * head_size, 64)\n",
        "      self.dropout = nn.Dropout(0.5)\n",
        "\n",
        "    def forward(self, x):\n",
        "      out = torch.cat([h(x) for h in self.heads], dim=-1)\n",
        "      out = self.proj(out)\n",
        "      out = self.dropout(out)\n",
        "      return out\n",
        "\n",
        "attention = MultiHeadAttention(4, 16).to(device)\n",
        "x = torch.randn(8, 32, 64).to(device)\n",
        "out = attention(x)\n",
        "out.shape\n"
      ],
      "metadata": {
        "id": "gFsPDkpnFs_b",
        "colab": {
          "base_uri": "https://localhost:8080/"
        },
        "outputId": "9f3778f7-9a75-42d0-f5e7-f8b619af2d62"
      },
      "execution_count": null,
      "outputs": [
        {
          "output_type": "execute_result",
          "data": {
            "text/plain": [
              "torch.Size([8, 32, 64])"
            ]
          },
          "metadata": {},
          "execution_count": 14
        }
      ]
    },
    {
      "cell_type": "markdown",
      "source": [
        "## MLP (2 points)\n",
        "Implement a 2 layer MLP\n",
        "\n",
        "\n",
        "![](https://i.ibb.co/C0DtrF5/ff.png)"
      ],
      "metadata": {
        "id": "uH_0ELyZ8YCC"
      }
    },
    {
      "cell_type": "code",
      "source": [
        "class MLP(nn.Module):\n",
        "    def __init__(self):\n",
        "        super().__init__()\n",
        "        # implement\n",
        "        self.fc1 = nn.Linear(64, 256)\n",
        "        self.activation = nn.ReLU()\n",
        "        self.fc2 = nn.Linear(256, 64)\n",
        "        self.dropout = nn.Dropout(0.5)\n",
        "\n",
        "    def forward(self, x: torch.tensor) -> torch.tensor:\n",
        "        # implement\n",
        "        x = self.fc1(x)\n",
        "        x = self.activation(x)\n",
        "        x = self.fc2(x)\n",
        "        x = self.dropout(x)\n",
        "        return x\n",
        "\n",
        "x = torch.randn(8, 32, 64)\n",
        "mlp = MLP()\n",
        "out = mlp(x)\n",
        "out.shape"
      ],
      "metadata": {
        "id": "K96Z3kAv7lNt",
        "colab": {
          "base_uri": "https://localhost:8080/"
        },
        "outputId": "0107a446-16a3-4b8d-e9d6-301d9a4f6383"
      },
      "execution_count": null,
      "outputs": [
        {
          "output_type": "execute_result",
          "data": {
            "text/plain": [
              "torch.Size([8, 32, 64])"
            ]
          },
          "metadata": {},
          "execution_count": 15
        }
      ]
    },
    {
      "cell_type": "markdown",
      "source": [
        "## Transformer block (20 points)\n",
        "\n",
        "Layer normalization help training stability by normalizing the outputs of neurons within a single layer across all features for each individual data point, not across a full batch or a specific feature.\n",
        "\n",
        "Dropout is a form of regularization to prevent overfitting.\n",
        "\n",
        "This is the diagram of a transformer block:\n",
        "\n",
        "![](https://i.ibb.co/X85C473/block.png)"
      ],
      "metadata": {
        "id": "bUFxuyf-JIxr"
      }
    },
    {
      "cell_type": "code",
      "source": [
        "class Block(nn.Module):\n",
        "    def __init__(self, n_embd: int, n_head: int):\n",
        "        super().__init__()\n",
        "        self.ln1 = nn.LayerNorm(n_embd)\n",
        "        self.multi_head_attention = MultiHeadAttention(n_embd, n_head)\n",
        "        self.ln2 = nn.LayerNorm(n_embd)\n",
        "        self.feed_forward = nn.Sequential(\n",
        "            nn.Linear(n_embd, 64),\n",
        "            nn.ReLU(),\n",
        "            nn.Linear(64, n_embd),\n",
        "        )\n",
        "\n",
        "\n",
        "    def forward(self, x):\n",
        "        attention_output = self.multi_head_attention(self.ln1(x))\n",
        "        x = x + attention_output\n",
        "        feed_forward_output = self.feed_forward(self.ln2(x))\n",
        "        y = x + feed_forward_output\n",
        "        return y\n",
        "\n",
        "x = torch.randn(8, 32, 64).to(device)\n",
        "block = Block(64, 8).to(device)\n",
        "out = block(x)\n",
        "out.shape"
      ],
      "metadata": {
        "id": "xTDAd66KIvvx",
        "colab": {
          "base_uri": "https://localhost:8080/"
        },
        "outputId": "87fe3964-3b6c-42f1-c4db-9fbe1d6fe6be"
      },
      "execution_count": null,
      "outputs": [
        {
          "output_type": "execute_result",
          "data": {
            "text/plain": [
              "torch.Size([8, 32, 64])"
            ]
          },
          "metadata": {},
          "execution_count": 16
        }
      ]
    },
    {
      "cell_type": "markdown",
      "source": [
        "## GPT\n",
        "\n",
        "`constructor` (5 points)\n",
        "\n",
        "1. create the token embedding table and the position embedding table\n",
        "2. create variable `self.blocks` that is a series of 4 `Block`s. The data will pass through each block sequentially. Consider using `nn.Sequential`\n",
        "3. create a layer norm layer\n",
        "4. create a linear layer for predicting the next token\n",
        "\n",
        "`forward(self, idx, targets=None)`. (5 points)\n",
        "\n",
        "`forward` takes a batch of context ids as input of size (B, T) and returns the logits and the loss, if targets is not None. If targets is None, return the logits and None.\n",
        "1. get the token by using the token embedding table created in the constructor\n",
        "2. create the position embeddings\n",
        "3. sum the token and position embeddings to get the model input\n",
        "4. pass the model through the blocks, the layernorm layer, and the final linear layer\n",
        "5. compute the loss\n",
        "\n",
        "`generate(start_char, max_new_tokens, top_p, top_k, temperature) -> str` (5 points)\n",
        "1. implement top p, top_k, and temperature for sampling\n",
        "\n"
      ],
      "metadata": {
        "id": "SyFQXltDKNti"
      }
    },
    {
      "cell_type": "markdown",
      "source": [
        "![](https://i.ibb.co/n8sbQ0V/Screenshot-2024-01-23-at-8-59-08-PM.png)"
      ],
      "metadata": {
        "id": "0Xa2bh2XDdKy"
      }
    },
    {
      "cell_type": "code",
      "source": [
        "class GPT(nn.Module):\n",
        "    def __init__(self, n_embd, n_head):\n",
        "      super().__init__()\n",
        "      self.token_embedding_table = nn.Embedding(len(chars), n_embd)\n",
        "      self.position_embedding_table = nn.Embedding(block_size, n_embd)\n",
        "      self.dropout = nn.Dropout(0.5)\n",
        "      self.blocks = nn.Sequential(\n",
        "          *[Block(n_embd, n_head) for _ in range(4)]\n",
        "      )\n",
        "      self.ln_f = nn.LayerNorm(n_embd)\n",
        "      self.lm_head = nn.Linear(n_embd, len(chars))\n",
        "\n",
        "    def forward(self, idx, targets=None):\n",
        "      B, T = idx.shape\n",
        "\n",
        "      token_embeddings = self.token_embedding_table(idx)\n",
        "      position_embeddings = self.position_embedding_table(torch.arange(T, device=device))\n",
        "      x = token_embeddings + position_embeddings\n",
        "      x = self.dropout(x)\n",
        "      x = self.blocks(x)\n",
        "      x = self.ln_f(x)\n",
        "      logits = self.lm_head(x)\n",
        "\n",
        "      if targets is None:\n",
        "        loss = None\n",
        "      else:\n",
        "        B, T, C = logits.shape\n",
        "        logits = logits.view(B*T, C)\n",
        "        targets = targets.view(B*T)\n",
        "        loss = nn.functional.cross_entropy(logits, targets)\n",
        "      return logits, loss\n",
        "\n",
        "    def generate(self, start_char, max_new_tokens, top_p, top_k, temperature):\n",
        "      self.eval()\n",
        "      with torch.no_grad():\n",
        "        idx_cond = torch.tensor(encode(start_char), dtype=torch.long).to(device).unsqueeze(0)\n",
        "        for _ in range(max_new_tokens):\n",
        "          logits, loss = self(idx_cond[:, -block_size:])\n",
        "          # print(logits.shape)\n",
        "          logits = logits[:, -1, :]\n",
        "\n",
        "          probs = nn.functional.softmax(logits / temperature, dim=-1)\n",
        "          # apply top_p, top_k sampling\n",
        "          if top_p is not None:\n",
        "            probs = self.top_p_sampling(probs, top_p)\n",
        "          elif top_k is not None:\n",
        "              probs = self.top_k_sampling(probs, top_k)\n",
        "\n",
        "          idx_next = torch.tensor([[probs]], device=device)\n",
        "          idx_cond = torch.cat((idx_cond, idx_next), dim=1)\n",
        "\n",
        "      generated_text = decode(idx_cond[0].tolist())\n",
        "      return generated_text\n",
        "\n",
        "\n",
        "    def top_p_sampling(self, probs, p=0.9):\n",
        "      # Sort probabilities in descending order and also get the original indices\n",
        "      probs = probs.cpu().numpy().flatten()\n",
        "      if probs is not None:\n",
        "        sorted_indices = np.argsort(probs)[::-1]\n",
        "      else:\n",
        "        sorted_indices = np.argsort(probs)\n",
        "\n",
        "      sorted_probabilities = probs[sorted_indices]\n",
        "\n",
        "      # Compute cumulative probabilities\n",
        "      cumulative_probabilities = np.cumsum(sorted_probabilities)\n",
        "\n",
        "      # Find the threshold index\n",
        "      cutoff_index = np.where(cumulative_probabilities > p)[0][0]\n",
        "\n",
        "      # Filter out indices and probabilities that don't meet the threshold\n",
        "      filtered_indices = sorted_indices[:cutoff_index + 1]\n",
        "      filtered_probabilities = sorted_probabilities[:cutoff_index + 1]\n",
        "\n",
        "      # Normalize the filtered probabilities\n",
        "      filtered_probabilities /= filtered_probabilities.sum()\n",
        "\n",
        "      # Sample from the filtered distribution\n",
        "      chosen_index = np.random.choice(filtered_indices, p=filtered_probabilities)\n",
        "\n",
        "      return chosen_index\n",
        "\n",
        "    def top_k_sampling(self, probs, k=5):\n",
        "      probs = probs.cpu().numpy().flatten()\n",
        "      # Get indices of the top k probabilities\n",
        "      top_k_indices = np.argsort(probs)[-k:]\n",
        "\n",
        "      # Extract the top k probabilities\n",
        "      top_k_probabilities = probs[top_k_indices]\n",
        "\n",
        "      # Normalize the top k probabilities so they sum to 1\n",
        "      top_k_probabilities /= top_k_probabilities.sum()\n",
        "\n",
        "      # Sample from the top k elements\n",
        "      chosen_index = np.random.choice(top_k_indices, p=top_k_probabilities)\n",
        "\n",
        "      return chosen_index\n",
        "\n",
        "gpt = GPT(64, 4).to(device)\n",
        "generated_text = gpt.generate(start_char=\"a\", max_new_tokens=100,top_p=0.9, top_k=None, temperature=1.0)\n",
        "print(generated_text)"
      ],
      "metadata": {
        "id": "8WT4oUN084ts",
        "colab": {
          "base_uri": "https://localhost:8080/"
        },
        "outputId": "866ab314-b325-44fb-f766-85b64286ff7e"
      },
      "execution_count": null,
      "outputs": [
        {
          "output_type": "stream",
          "name": "stdout",
          "text": [
            "aEr-pttqxXmoNblpC-O!uaB\n",
            "Lo.YjWjPR'x&va3RvU-WiwpwO?y! EwSyqx'3dPy.YWZO&y$.'YCrRKO.Q3HgHe'AKwTRPjttkEl?\n"
          ]
        }
      ]
    },
    {
      "cell_type": "markdown",
      "source": [
        "### Training loop (15 points)\n",
        "\n",
        "implement training loop"
      ],
      "metadata": {
        "id": "Njzrwwiv-mfB"
      }
    },
    {
      "cell_type": "code",
      "source": [
        "model = GPT(64, 4).to(device) # make you are running this on the GPU\n",
        "max_iters = 5000\n",
        "optimizer = torch.optim.AdamW(model.parameters(), lr=1e-3)\n",
        "\n",
        "for iter in range(max_iters):\n",
        "  xb, yb = get_batch()\n",
        "  logits, loss = model(xb, yb)\n",
        "  optimizer.zero_grad(set_to_none=True)\n",
        "  loss.backward()\n",
        "  optimizer.step()\n",
        "  if iter % 1000 == 0 or iter == max_iters-1:\n",
        "    print(f\"step {iter}: train loss {loss.item()}\")"
      ],
      "metadata": {
        "id": "qWtn2uTwYUrY",
        "colab": {
          "base_uri": "https://localhost:8080/"
        },
        "outputId": "6e10a77d-b275-44cb-dfd0-3ba562e2894f"
      },
      "execution_count": null,
      "outputs": [
        {
          "output_type": "stream",
          "name": "stdout",
          "text": [
            "step 0: train loss 4.364165782928467\n",
            "step 1000: train loss 2.469721794128418\n",
            "step 2000: train loss 2.340548038482666\n",
            "step 3000: train loss 2.1716504096984863\n",
            "step 4000: train loss 2.1197071075439453\n",
            "step 4999: train loss 2.0363879203796387\n"
          ]
        }
      ]
    },
    {
      "cell_type": "markdown",
      "source": [
        "### Generate text\n",
        "\n",
        "\n",
        "print some text that your model generates"
      ],
      "metadata": {
        "id": "zy3v8Nv7YVUa"
      }
    },
    {
      "cell_type": "code",
      "source": [
        "print(model.generate(start_char=\"I\", max_new_tokens=1000,top_p=0.9, top_k=None, temperature=1.0))"
      ],
      "metadata": {
        "id": "5l4soWviWG5M",
        "colab": {
          "base_uri": "https://localhost:8080/"
        },
        "outputId": "fd192bba-e9c0-46d6-9585-1438e0e211df"
      },
      "execution_count": null,
      "outputs": [
        {
          "output_type": "stream",
          "name": "stdout",
          "text": [
            "IANG LETENETIO:\n",
            "What conise, what not die lagery,\n",
            "Frith ber heme seir is the of youlld.\n",
            "\n",
            "\n",
            "PORGERICANA:\n",
            "Bow a mealy bere fritthat to thou that the houth thou his shander?\n",
            "\n",
            "Flat with soner hom here ass ingrests sit worde were my thord, mere is hand the not do him.\n",
            "\n",
            "\n",
            "From OF buchour'd sue hat courst beid my wen heren nother net me me ton sorany me.\n",
            "\n",
            "\n",
            "FOrreas and you he, our mesone hearse thim be ind not be do my fare ist the hestas preas on not, coure ame stredifed dauns besst not gro not my butesed, and burds to by din frind;\n",
            "Nond mouse thou migh is shad then he the that will the,\n",
            "And had arde delfoo is now swere, shir prace a mone;\n",
            "As not loweanded firt hare thim, feresetell stent lard ayou to you, thir gous pove is loth live sin wenee it that not the whe at he that leive gonerit:\n",
            "And thow ould in my tore gouent with morke wencom some hes for ass both withe would prow getitit holve to canitons,\n",
            "And the workn for gouck, with on the stide deno folllom presay, so and the though poor and sti\n"
          ]
        }
      ]
    }
  ]
}